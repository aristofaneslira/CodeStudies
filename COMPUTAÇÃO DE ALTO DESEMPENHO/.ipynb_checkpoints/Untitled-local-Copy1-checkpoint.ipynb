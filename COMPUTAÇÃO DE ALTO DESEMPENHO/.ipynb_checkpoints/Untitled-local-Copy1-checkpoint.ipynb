{
 "cells": [
  {
   "attachments": {},
   "cell_type": "markdown",
   "metadata": {},
   "source": [
    "Olá! Obrigado por abrir meu Kernel. Estou super animado para compartilhar meu primeiro Kernel com a comunidade Kaggle. Por favor, certifique-se de fazer upvote, bifurcar e comentar. Obrigado, e você pode ter sorte \"estatisticamente significativa\"!"
   ]
  },
  {
   "cell_type": "markdown",
   "metadata": {},
   "source": [
    "\n",
    "1. Introdução\n",
    "2. Carregando bibliotecas e recuperando dados\n",
    "3. Entendendo os dados\n",
    "4. Valores em falta\n",
    "5. Visualização de Dados\n",
    "1. Introdução\n",
    "fundo\n",
    "\n",
    "As artes marciais mistas (MMA) são um esporte de combate de contato total que permite golpear e agarrar, tanto em pé quanto no chão, usando técnicas de outros esportes de combate e artes marciais. O Ultimate Fighting Championship (UFC) é uma organização americana de artes marciais mistas sediada em Las Vegas, Nevada e é a maior promoção de MMA do mundo e conta com os melhores lutadores do esporte. Com sede nos Estados Unidos, o UFC produz eventos em todo o mundo que exibem doze divisões de peso e seguem as Regras Unificadas de Artes Marciais Mistas. Este é um esporte altamente imprevisível\n",
    "\n",
    "Poucas coisas vamos tentar visualizar:\n",
    "\n",
    "Como está a idade / altura relacionada com o resultado?\n",
    "Locais mais populares em UFC?\n",
    "Maneira mais popular de vencer a luta?\n",
    "Comparando técnicas usadas por lutadores\n",
    "\n",
    "2. Carregando bibliotecas e recuperando dados\n",
    "Nem todos os recursos python são carregados no seu ambiente de trabalho por padrão. Nós precisaríamos importar todas as bibliotecas que vamos usar. Nós escolheremos nomes de alias para nossos módulos por conveniência (por exemplo, numpy -> np, pandas -> pd)"
   ]
  },
  {
   "cell_type": "code",
   "execution_count": 10,
   "metadata": {},
   "outputs": [
    {
     "ename": "ModuleNotFoundError",
     "evalue": "No module named 'cufflinks'",
     "output_type": "error",
     "traceback": [
      "\u001b[1;31m---------------------------------------------------------------------------\u001b[0m",
      "\u001b[1;31mModuleNotFoundError\u001b[0m                       Traceback (most recent call last)",
      "\u001b[1;32m<ipython-input-10-4c0b8f198e4e>\u001b[0m in \u001b[0;36m<module>\u001b[1;34m()\u001b[0m\n\u001b[0;32m      7\u001b[0m \u001b[1;31m#from plotly import __version__\u001b[0m\u001b[1;33m\u001b[0m\u001b[1;33m\u001b[0m\u001b[0m\n\u001b[0;32m      8\u001b[0m \u001b[1;31m#from plotly.offline import download_plotlyjs, init_notebook_mode, plot, iplot\u001b[0m\u001b[1;33m\u001b[0m\u001b[1;33m\u001b[0m\u001b[0m\n\u001b[1;32m----> 9\u001b[1;33m \u001b[1;32mimport\u001b[0m \u001b[0mcufflinks\u001b[0m \u001b[1;32mas\u001b[0m \u001b[0mcf\u001b[0m\u001b[1;33m\u001b[0m\u001b[0m\n\u001b[0m\u001b[0;32m     10\u001b[0m \u001b[0minit_notebook_mode\u001b[0m\u001b[1;33m(\u001b[0m\u001b[0mconnected\u001b[0m \u001b[1;33m=\u001b[0m \u001b[1;32mTrue\u001b[0m\u001b[1;33m)\u001b[0m\u001b[1;33m\u001b[0m\u001b[0m\n\u001b[0;32m     11\u001b[0m \u001b[0mcf\u001b[0m\u001b[1;33m.\u001b[0m\u001b[0mgo_offline\u001b[0m\u001b[1;33m(\u001b[0m\u001b[1;33m)\u001b[0m\u001b[1;33m\u001b[0m\u001b[0m\n",
      "\u001b[1;31mModuleNotFoundError\u001b[0m: No module named 'cufflinks'"
     ]
    }
   ],
   "source": [
    "import pandas as pd\n",
    "import numpy as np\n",
    "import matplotlib.pyplot as plt\n",
    "import seaborn as sns\n",
    "import warnings\n",
    "warnings.filterwarnings('ignore')\n",
    "from plotly import __version__\n",
    "from plotly.offline import download_plotlyjs, init_notebook_mode, plot, iplot\n",
    "import cufflinks as cf\n",
    "init_notebook_mode(connected = True)\n",
    "cf.go_offline()\n",
    "%matplotlib inline\n",
    "\n",
    "from plotly import tools\n",
    "import plotly.plotly as py\n",
    "from plotly.offline import init_notebook_mode, iplot\n",
    "init_notebook_mode(connected=True)\n",
    "import plotly.graph_objs as go\n",
    "import plotly.figure_factory as ff\n",
    "import plotly.offline as offline\n",
    "# Squarify for treemaps\n",
    "import squarify\n",
    "# Random for well, random stuff\n",
    "import random\n",
    "# operator for sorting dictionaries\n",
    "import operator\n",
    "# For ignoring warnings\n",
    "import warnings\n",
    "warnings.filterwarnings('ignore')\n",
    "\n",
    "\n",
    "\n",
    "df = pd.read_csv(\"C:/Users/arist/Documents/UEPB 2018.1/COMPUTAÇÃO DE ALTO DESEMPENHO/data.csv\")\n",
    "df.head(2)"
   ]
  },
  {
   "cell_type": "markdown",
   "metadata": {},
   "source": [
    "\n",
    "3. Entendendo os dados\n",
    "\n",
    "O conjunto de dados contém uma lista de todas as lutas do UFC desde 2013, com entradas resumidas da rodada de cada lutador por registro de rodada precedendo aquela luta. Criado na tentativa de prever um vencedor da luta do UFC. Cada linha representa uma única luta - com os registros anteriores de cada lutador somados antes da luta. Estatísticas em branco significam a primeira luta do lutador desde 2013, que é onde os dados granulares para as lutas do UFC.\n",
    "\n",
    "Temos cerca de 895 colunas, algumas colunas importantes para observar:\n",
    "\n",
    "BPrev: Lutas anteriores pelo lutador 'Blue'\n",
    "B_Age: Age of 'Blue' fighter\n",
    "B_Altura: Altura do lutador 'Blue'\n",
    "B_Weight: Peso do lutador 'Blue'\n",
    "B_Location: Localização do lutador 'Blue'\n",
    "B_Hometown: Cidade natal de 'lutador azul\n",
    "RPrev: Lutas anteriores pelo lutador 'Red'\n",
    "R_Age: Age of 'Red' fighter\n",
    "R_Altura: Altura do lutador 'Vermelho'\n",
    "R_Weight: Peso do lutador 'Red'\n",
    "R_Location: Localização do lutador 'Red'\n",
    "R_Hometown: Cidade natal de 'Red lutador\n",
    "Data: data da luta\n",
    "winby: Como o lutador venceu a luta (decisão, submissão KO etc.)\n",
    "vencedor: Quem foi o vencedor da luta?\n",
    "Além disso, o conjunto de dados contém todas as técnicas (soco, chutes, quedas etc.) tentadas e desembarcadas pelos lutadores em cada rodada."
   ]
  },
  {
   "cell_type": "code",
   "execution_count": 5,
   "metadata": {},
   "outputs": [
    {
     "ename": "NameError",
     "evalue": "name 'df' is not defined",
     "output_type": "error",
     "traceback": [
      "\u001b[1;31m---------------------------------------------------------------------------\u001b[0m",
      "\u001b[1;31mNameError\u001b[0m                                 Traceback (most recent call last)",
      "\u001b[1;32m<ipython-input-5-ea8415b8a3ee>\u001b[0m in \u001b[0;36m<module>\u001b[1;34m()\u001b[0m\n\u001b[1;32m----> 1\u001b[1;33m \u001b[0mdf\u001b[0m\u001b[1;33m.\u001b[0m\u001b[0mdescribe\u001b[0m\u001b[1;33m(\u001b[0m\u001b[1;33m)\u001b[0m\u001b[1;33m\u001b[0m\u001b[0m\n\u001b[0m",
      "\u001b[1;31mNameError\u001b[0m: name 'df' is not defined"
     ]
    }
   ],
   "source": [
    "df.describe()"
   ]
  },
  {
   "cell_type": "code",
   "execution_count": null,
   "metadata": {},
   "outputs": [],
   "source": [
    "df.describe(include=\"all\")"
   ]
  },
  {
   "cell_type": "code",
   "execution_count": null,
   "metadata": {},
   "outputs": [],
   "source": [
    "print(\"Number of records : \", df.shape[0])\n",
    "print(\"Number of Blue fighters : \", len(df.B_ID.unique()))\n",
    "print(\"Number of Red fighters : \", len(df.R_ID.unique()))"
   ]
  },
  {
   "cell_type": "code",
   "execution_count": null,
   "metadata": {},
   "outputs": [],
   "source": [
    "df.isnull().sum(axis=0)"
   ]
  },
  {
   "cell_type": "markdown",
   "metadata": {},
   "source": [
    "4. Valores em falta\n",
    "Observamos que existem alguns valores ausentes em nossos dados. Eu sei que Idade e Altura são características importantes em qualquer esporte de combate e eles têm poucos valores em falta.\n",
    "\n",
    "Vamos abordar os valores ausentes em idade e altura. Podemos simplesmente excluir linhas com valores ausentes, mas geralmente queremos aproveitar o maior número de pontos de dados possível. Substituir valores em falta por zeros não seria uma boa ideia - já que a idade 0 terá significados reais e isso mudaria nossos dados.\n",
    "\n",
    "Portanto, um bom valor de substituição seria algo que não afeta muito os dados, como a mediana ou a média. a função \"fillna\" substitui cada entrada NaN (não um número) pela entrada dada (a média da coluna no nosso caso). Vamos fazer isso para os lutadores \"azuis\" e \"vermelhos\"."
   ]
  },
  {
   "cell_type": "code",
   "execution_count": null,
   "metadata": {},
   "outputs": [],
   "source": [
    "df['B_Age'] = df['B_Age'].fillna(np.mean(df['B_Age']))\n",
    "df['B_Height'] = df['B_Height'].fillna(np.mean(df['B_Height']))\n",
    "df['R_Age'] = df['R_Age'].fillna(np.mean(df['R_Age']))\n",
    "df['R_Height'] = df['R_Height'].fillna(np.mean(df['R_Height']))"
   ]
  },
  {
   "cell_type": "markdown",
   "metadata": {},
   "source": [
    "\n",
    "5. Visualização de Dados\n",
    "Vamos começar olhando quem está ganhando mais do nosso conjunto de dados:"
   ]
  },
  {
   "cell_type": "code",
   "execution_count": null,
   "metadata": {},
   "outputs": [],
   "source": [
    "temp = df[\"winner\"].value_counts()\n",
    "fig = {\n",
    "  \"data\": [\n",
    "    {\n",
    "      \"values\": temp.values,\n",
    "      \"labels\": temp.index,\n",
    "      \"domain\": {\"x\": [0, 1]},\n",
    "      \"hole\": .6,\n",
    "      \"type\": \"pie\"\n",
    "    },\n",
    "    \n",
    "    ],\n",
    "  \"layout\": {\n",
    "        \"title\":\"Winner\",\n",
    "        \"annotations\": [\n",
    "            {\n",
    "                \"font\": {\n",
    "                    \"size\": 17\n",
    "                },\n",
    "                \"showarrow\": False,\n",
    "                \"text\": \"Whos winning more\",\n",
    "                \"x\": 0.5,\n",
    "                \"y\": 0.5\n",
    "            }\n",
    "            \n",
    "        ]\n",
    "    }\n",
    "}\n",
    "iplot(fig, filename='donut')"
   ]
  },
  {
   "cell_type": "markdown",
   "metadata": {},
   "source": [
    "\n",
    "Aqui, vou apenas seguir meu instinto e brincar um pouco com o que sinto que importará.\n",
    "\n",
    "Vamos falar sobre a idade - um fator crítico em qualquer esporte. Começaremos analisando a distribuição de idade do nosso conjunto de dados"
   ]
  },
  {
   "cell_type": "code",
   "execution_count": null,
   "metadata": {},
   "outputs": [],
   "source": [
    "#fig, ax = plt.subplots(1,2, figsize=(12, 20))\n",
    "fig, ax = plt.subplots(1,2, figsize=(15, 5))\n",
    "sns.distplot(df.B_Age, ax=ax[0])\n",
    "sns.distplot(df.R_Age, ax=ax[1])"
   ]
  },
  {
   "cell_type": "markdown",
   "metadata": {},
   "source": [
    "A idade é um grande fator em qualquer esporte, principalmente no MMA, onde você deve ter combinação de força, agilidade e velocidade (entre outras habilidades). Essas habilidades chegam a 27-35 e as lutas dos lutadores nessa idade devem ter maior probabilidade de vencer a luta. Vamos validar agrupando a idade para os lutadores azuis que venceram a luta."
   ]
  },
  {
   "cell_type": "code",
   "execution_count": null,
   "metadata": {},
   "outputs": [],
   "source": [
    "BAge = df.groupby(['B_Age']).count()['winner']\n",
    "BlueAge = BAge.sort_values(axis=0, ascending=False)\n",
    "BlueAge.head(10)"
   ]
  },
  {
   "cell_type": "markdown",
   "metadata": {},
   "source": [
    "Claramente, a maioria das lutas foi vencida por lutadores entre 20 e 30 anos de idade, com um pico durante esse período, perdendo força, rapidez e capacidade cardiovascular.\n",
    "\n",
    "Por outro lado, lutadores mais jovens não desenvolvem força de pico até 27-28 ~ enquanto lutadores mais velhos são geralmente mais lentos e mais propensos a perder. Vamos verificar se isso é verdade em nossos dados. Desta vez vamos checar lutadores 'Vermelhos'."
   ]
  },
  {
   "cell_type": "code",
   "execution_count": null,
   "metadata": {},
   "outputs": [],
   "source": [
    "RAge = df.groupby(['R_Age']).count()['winner']\n",
    "RedAge = RAge.sort_values(axis=0, ascending=False)\n",
    "RedAge.tail(10)"
   ]
  },
  {
   "cell_type": "markdown",
   "metadata": {},
   "source": [
    "\n",
    "Parece que isso é verdade. Isso me deixa curioso sobre o número total de caças vermelhos e azuis com menos de 35 anos."
   ]
  },
  {
   "cell_type": "code",
   "execution_count": null,
   "metadata": {},
   "outputs": [],
   "source": [
    "fig, ax = plt.subplots(1,2, figsize=(15, 5))\n",
    "above35 =['above35' if i >= 35 else 'below35' for i in df.B_Age]\n",
    "df_B = pd.DataFrame({'B_Age':above35})\n",
    "sns.countplot(x=df_B.B_Age, ax=ax[0])\n",
    "plt.ylabel('Number of fighters')\n",
    "plt.title('Age of Blue fighters',color = 'Blue',fontsize=15)\n",
    "\n",
    "above35 =['above35' if i >= 35 else 'below35' for i in df.R_Age]\n",
    "df_R = pd.DataFrame({'R_Age':above35})\n",
    "sns.countplot(x=df_R.R_Age, ax=ax[1])\n",
    "plt.ylabel('Number of Red fighters')\n",
    "plt.title('Age of Red fighters',color = 'Red',fontsize=15)"
   ]
  },
  {
   "cell_type": "markdown",
   "metadata": {},
   "source": [
    "\n",
    "Curiosamente, a maioria dos lutadores está abaixo de 35. O MMA é um esporte brutal para os caras mais velhos e pode deixá-los com lesões ao longo da vida.\n",
    "\n",
    "Por último, vamos olhar para a diferença média"
   ]
  },
  {
   "cell_type": "code",
   "execution_count": null,
   "metadata": {},
   "outputs": [],
   "source": [
    "df['Age_Difference'] = df.B_Age - df.R_Age\n",
    "df[['Age_Difference', 'winner']].groupby('winner').mean()"
   ]
  },
  {
   "cell_type": "markdown",
   "metadata": {},
   "source": [
    "A idade é importante e a juventude é uma clara vantagem.\n",
    "\n",
    "A altura também é uma grande vantagem no MMA, já que significa mais altura e alcance, o que significa que o caça mais alto pode atacar à distância, mantendo-se a salvo da zona de impacto. Vamos começar olhando para a distribuição de altura:"
   ]
  },
  {
   "cell_type": "code",
   "execution_count": null,
   "metadata": {},
   "outputs": [],
   "source": [
    "fig, ax = plt.subplots(1,2, figsize=(15, 5))\n",
    "sns.distplot(df.B_Height, bins = 20, ax=ax[0]) #Blue \n",
    "sns.distplot(df.R_Height, bins = 20, ax=ax[1]) #Red"
   ]
  },
  {
   "cell_type": "code",
   "execution_count": null,
   "metadata": {},
   "outputs": [],
   "source": [
    "fig, ax = plt.subplots(figsize=(14, 6))\n",
    "sns.kdeplot(df.B_Height, shade=True, color='indianred', label='Red')\n",
    "sns.kdeplot(df.R_Height, shade=True, label='Blue')"
   ]
  },
  {
   "cell_type": "code",
   "execution_count": null,
   "metadata": {},
   "outputs": [],
   "source": [
    "df['Height Difference'] = df.B_Height - df.R_Height\n",
    "df[['Height Difference', 'winner']].groupby('winner').mean()"
   ]
  },
  {
   "cell_type": "markdown",
   "metadata": {},
   "source": [
    "O lutador mais alto tem uma vantagem e, em média, vence. Claro, a menos que você esteja lutando contra Drago;)\n",
    "\n",
    "Agora, vamos falar sobre como os lutadores estão vencendo. As três formas mais populares de vencer em uma luta de MMA são:\n",
    "\n",
    "1. DEC: Decisão (Dec) é um resultado da luta ou luta que não termina em um nocaute em que os scorecards dos juízes são consultados para determinar o vencedor; a maioria dos juízes deve concordar com um resultado. Uma luta pode terminar em uma vitória para um atleta, um empate ou uma decisão negativa.\n",
    "\n",
    "2. SUB: também conhecido como \"tap out\" ou \"tapping out\" - é frequentemente realizado batendo visivelmente no chão ou no adversário com a mão ou em alguns casos com o pé, para sinalizar o adversário e / ou o árbitro. da submissão\n",
    "\n",
    "3. KO / TKO: Knockout (KO) é quando um lutador é eliminado com frio. (ou seja, de uma posição em pé para não ficar em pé depois de receber um golpe). Knockout Técnico (TKO) é quando um lutador está sendo agredido e é incapaz de se defender mais. O árbitro intervirá e fará um julgamento para finalizá-lo e evitar que o lutador receba mais danos desnecessários ou permanentes e o chama de TKO."
   ]
  },
  {
   "cell_type": "code",
   "execution_count": null,
   "metadata": {},
   "outputs": [],
   "source": [
    "temp = df[\"winby\"].value_counts()\n",
    "fig = {\n",
    "  \"data\": [\n",
    "    {\n",
    "      \"values\": temp.values,\n",
    "      \"labels\": temp.index,\n",
    "      \"domain\": {\"x\": [0, 1]},\n",
    "      #\"name\": \"Types of Loans\",\n",
    "      #\"hoverinfo\":\"label+percent+name\",\n",
    "      \"hole\": .6,\n",
    "      \"type\": \"pie\"\n",
    "    },\n",
    "    \n",
    "    ],\n",
    "  \"layout\": {\n",
    "        \"title\":\"How the fighter's are winning?\",\n",
    "        \"annotations\": [\n",
    "            {\n",
    "                \"font\": {\n",
    "                    \"size\": 20\n",
    "                },\n",
    "                \"showarrow\": False,\n",
    "                \"text\": \"Win by\",\n",
    "                \"x\": 0.50,\n",
    "                \"y\": 0.5\n",
    "            }\n",
    "            \n",
    "        ]\n",
    "    }\n",
    "}\n",
    "iplot(fig, filename='donut')"
   ]
  },
  {
   "cell_type": "markdown",
   "metadata": {},
   "source": [
    "\n",
    "Então a maioria das lutas vai para os juízes. A segunda maneira mais popular é o Knockout e o KO Técnico.\n",
    "\n",
    "Vamos verificar como isso é distribuído em relação a Age para os lutadores 'Red'."
   ]
  },
  {
   "cell_type": "code",
   "execution_count": null,
   "metadata": {},
   "outputs": [],
   "source": [
    "g = sns.FacetGrid(df, col='winby')\n",
    "g.map(plt.hist, 'R_Age', bins=20)"
   ]
  },
  {
   "cell_type": "markdown",
   "metadata": {},
   "source": [
    "O MMA é um esporte complexo, em certo sentido, é o único esporte em que a defesa e a ofensiva podem ser feitas no mesmo movimento. Bater em alguém é um risco, pois deixa você aberto para que seu oponente faça um contra-ataque. No entanto, quanto maior o risco, maior a recompensa. Mais tentativas ofensivas que você faz devem significar mais você chegar ao seu oponente (e com habilidades e poder certos - mais chances você tem de vencer a luta).\n",
    "\n",
    "Vamos ver se isso é verdade com nossos dados."
   ]
  },
  {
   "cell_type": "code",
   "execution_count": null,
   "metadata": {},
   "outputs": [],
   "source": [
    "sns.lmplot(x=\"B__Round1_Strikes_Body Significant Strikes_Attempts\", \n",
    "               y=\"B__Round1_Strikes_Body Significant Strikes_Landed\", \n",
    "               col=\"winner\", hue=\"winner\", data=df, col_wrap=2, size=6)"
   ]
  },
  {
   "cell_type": "markdown",
   "metadata": {},
   "source": [
    "\n",
    "Tentativas e greves desembarcadas são, como esperado, perfeitamente lineares.\n",
    "\n",
    "Agora, vamos olhar para o local e descobrir os países mais populares"
   ]
  },
  {
   "cell_type": "code",
   "execution_count": null,
   "metadata": {},
   "outputs": [],
   "source": [
    "cnt_srs = df['R_Location'].value_counts().head(15)\n",
    "\n",
    "trace = go.Bar(\n",
    "    x=cnt_srs.index,\n",
    "    y=cnt_srs.values,\n",
    "    marker=dict(\n",
    "        color=cnt_srs.values,\n",
    "    ),\n",
    ")\n",
    "\n",
    "layout = go.Layout(\n",
    "    title='Most Popular cities for Red fighters'\n",
    ")\n",
    "\n",
    "data = [trace]\n",
    "fig = go.Figure(data=data, layout=layout)\n",
    "offline.iplot(fig, filename=\"Ratio\")"
   ]
  },
  {
   "cell_type": "code",
   "execution_count": null,
   "metadata": {},
   "outputs": [],
   "source": [
    "cnt_srs = df['B_Location'].value_counts().head(15)\n",
    "\n",
    "trace = go.Bar(\n",
    "    x=cnt_srs.index,\n",
    "    y=cnt_srs.values,\n",
    "    marker=dict(\n",
    "        color=cnt_srs.values,\n",
    "    ),\n",
    ")\n",
    "\n",
    "layout = go.Layout(\n",
    "    title='Most Popular cities for Blue fighters'\n",
    ")\n",
    "\n",
    "data = [trace]\n",
    "fig = go.Figure(data=data, layout=layout)\n",
    "offline.iplot(fig, filename=\"Ratio\")"
   ]
  },
  {
   "cell_type": "markdown",
   "metadata": {},
   "source": [
    "O MMA parece ser mais proeminente no Brasil e nos EUA. De fato, o MMA é o segundo esporte mais popular depois do futebol no Brasil. Gostaria de saber se é devido ao antigo Jiu-Jitsu brasileiro?\n",
    "\n",
    "Agora, vamos dar uma olhada nas reviravoltas Grappling, grappling standups e grappling takedowns em diferentes categorias de peso no Round 1"
   ]
  },
  {
   "cell_type": "code",
   "execution_count": null,
   "metadata": {},
   "outputs": [],
   "source": [
    "r1 = df[['B_Weight', 'B__Round1_Grappling_Reversals_Landed', 'B__Round1_Grappling_Standups_Landed', \n",
    "    'B__Round1_Grappling_Takedowns_Landed']].groupby('B_Weight').sum()\n",
    "\n",
    "r1.plot(kind='line', figsize=(14,6))\n",
    "plt.show()"
   ]
  },
  {
   "cell_type": "markdown",
   "metadata": {},
   "source": [
    "\n",
    "Há pouquíssimas reversões de Grappling, mas grande quantidade de quedas de Grappling que foram desembarcadas. Mais especificamente, as classes de peso entre 70 e 80 preferem as quedas durante a primeira rodada.\n",
    "\n",
    "Vamos comparar o mesmo para a 5ª rodada"
   ]
  },
  {
   "cell_type": "code",
   "execution_count": null,
   "metadata": {},
   "outputs": [],
   "source": [
    "r5 = df[['B_Weight', 'B__Round5_Grappling_Reversals_Landed', 'B__Round5_Grappling_Standups_Landed', 'B__Round5_Grappling_Takedowns_Landed']].groupby('B_Weight').sum()\n",
    "\n",
    "r5.plot(kind='line', figsize=(14,6))\n",
    "plt.show()"
   ]
  },
  {
   "cell_type": "markdown",
   "metadata": {},
   "source": [
    "Curiosamente, as reversões de grappling aumentam para os lutadores entre 80-90, enquanto as quedas diminuíram nos grupos mais leves.\n",
    "\n",
    "Vamos olhar dados semelhantes para ataques de cabeça do Clinch, greves de perna do Clinch e greves do corpo para o Round 1"
   ]
  },
  {
   "cell_type": "code",
   "execution_count": null,
   "metadata": {},
   "outputs": [],
   "source": [
    "clin_r1 = df[['B_Weight', 'B__Round1_Strikes_Clinch Head Strikes_Landed', 'B__Round1_Strikes_Clinch Leg Strikes_Landed', 'B__Round1_Strikes_Clinch Body Strikes_Landed']].groupby('B_Weight').sum()\n",
    "\n",
    "clin_r1.plot(kind='line', figsize=(14,6))\n",
    "plt.show()"
   ]
  },
  {
   "cell_type": "markdown",
   "metadata": {},
   "source": [
    "\n",
    "Os lutadores preferem acertar mais golpes na primeira rodada, vamos comparar isso com o que acontece na Rodada 5:"
   ]
  },
  {
   "cell_type": "code",
   "execution_count": null,
   "metadata": {},
   "outputs": [],
   "source": [
    "clin_r5= df[['B_Weight', 'B__Round1_Strikes_Clinch Head Strikes_Landed', 'B__Round5_Strikes_Clinch Leg Strikes_Landed', 'B__Round5_Strikes_Clinch Body Strikes_Landed']].groupby('B_Weight').sum()\n",
    "\n",
    "clin_r5.plot(kind='line', figsize=(14,6))\n",
    "plt.show()"
   ]
  },
  {
   "cell_type": "markdown",
   "metadata": {},
   "source": [
    "\n",
    "Por volta da 5ª rodada, os lutadores (que estão agora desgastados) não estão conseguindo nenhum ataque de perna e corpo. Eles ainda estão pousando boa quantidade de golpes de cabeça. Isso faz sentido à medida que a luta está chegando ao fim e, em vez de depender dos juízes, eles querem fazer um Knock out.\n",
    "\n",
    "Obrigado!"
   ]
  }
 ],
 "metadata": {
  "kernelspec": {
   "display_name": "Python 3",
   "language": "python",
   "name": "python3"
  },
  "language_info": {
   "codemirror_mode": {
    "name": "ipython",
    "version": 3
   },
   "file_extension": ".py",
   "mimetype": "text/x-python",
   "name": "python",
   "nbconvert_exporter": "python",
   "pygments_lexer": "ipython3",
   "version": "3.6.4"
  }
 },
 "nbformat": 4,
 "nbformat_minor": 2
}
