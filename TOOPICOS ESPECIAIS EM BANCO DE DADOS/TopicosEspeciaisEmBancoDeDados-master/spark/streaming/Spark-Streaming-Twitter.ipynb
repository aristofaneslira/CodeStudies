{
 "cells": [
  {
   "cell_type": "markdown",
   "metadata": {},
   "source": [
    "## Spark Streaming - Twitter"
   ]
  },
  {
   "cell_type": "markdown",
   "metadata": {},
   "source": [
    "Acesse http://localhost:4040 sempre que quiser acompanhar a execução dos jobs"
   ]
  },
  {
   "cell_type": "code",
   "execution_count": 11,
   "metadata": {},
   "outputs": [],
   "source": [
    "# Pode ser necessário instalar esses pacotes\n",
    "#!pip install requests_oauthlib\n",
    "#!pip install twython\n",
    "# !pip install nltk"
   ]
  },
  {
   "cell_type": "code",
   "execution_count": 12,
   "metadata": {},
   "outputs": [],
   "source": [
    "# Módulos usados\n",
    "from pyspark.streaming import StreamingContext\n",
    "from pyspark import SparkContext\n",
    "from requests_oauthlib import OAuth1Session\n",
    "from operator import add\n",
    "import requests_oauthlib\n",
    "from time import gmtime, strftime\n",
    "import requests\n",
    "import time\n",
    "import string\n",
    "import ast\n",
    "import json\n",
    "#import re"
   ]
  },
  {
   "cell_type": "code",
   "execution_count": 13,
   "metadata": {},
   "outputs": [],
   "source": [
    "# Pacote NLTK\n",
    "import nltk\n",
    "from nltk.classify import NaiveBayesClassifier\n",
    "from nltk.sentiment import SentimentAnalyzer\n",
    "from nltk.corpus import subjectivity\n",
    "from nltk.corpus import stopwords\n",
    "from nltk.sentiment.util import *"
   ]
  },
  {
   "cell_type": "code",
   "execution_count": 14,
   "metadata": {},
   "outputs": [],
   "source": [
    "# Frequência de update\n",
    "INTERVALO_BATCH = 5"
   ]
  },
  {
   "cell_type": "code",
   "execution_count": 15,
   "metadata": {},
   "outputs": [],
   "source": [
    "# Criando o StreamingContext\n",
    "ssc = StreamingContext(spark, INTERVALO_BATCH)"
   ]
  },
  {
   "cell_type": "code",
   "execution_count": 16,
   "metadata": {},
   "outputs": [
    {
     "name": "stdout",
     "output_type": "stream",
     "text": [
      "/Users/vladimiralencar/Dropbox/BigDataAnalytics/spark/Curso_Spark_DSA/chap08/5-Projeto2\r\n"
     ]
    }
   ],
   "source": [
    "!pwd"
   ]
  },
  {
   "cell_type": "markdown",
   "metadata": {},
   "source": [
    "## Treinando o Classificador de Análise de Sentimento"
   ]
  },
  {
   "cell_type": "markdown",
   "metadata": {},
   "source": [
    "Uma parte essencial da criação de um algoritmo de análise de sentimento (ou qualquer algoritmo de mineração de dados) é ter um conjunto de dados abrangente ou \"Corpus\" para o aprendizado, bem como um conjunto de dados de teste para garantir que a precisão do seu algoritmo atende aos padrões que você espera. Isso também permitirá que você ajuste o seu algoritmo a fim de deduzir melhores (ou mais precisas) características de linguagem natural que você poderia extrair do texto e que vão contribuir para a classificação de sentimento, em vez de usar uma abordagem genérica. Tomaremos como base o dataset de treino fornecido pela Universidade de Michigan, para competições do Kaggle (https://inclass.kaggle.com/c/si650winter11)."
   ]
  },
  {
   "cell_type": "markdown",
   "metadata": {},
   "source": [
    "Esse dataset contém 1,578,627 tweets classificados e cada linha é marcada como: \n",
    "\n",
    "### 1 para o sentimento positivo \n",
    "### 0 para o sentimento negativo "
   ]
  },
  {
   "cell_type": "code",
   "execution_count": 17,
   "metadata": {},
   "outputs": [],
   "source": [
    "# Lendo o arquivo texto e criando um RDD em memória com Spark\n",
    "arquivo = spark.read.csv(\"dataset_analise_sentimento.csv\", header=True)"
   ]
  },
  {
   "cell_type": "code",
   "execution_count": 18,
   "metadata": {},
   "outputs": [
    {
     "data": {
      "text/plain": [
       "pyspark.sql.dataframe.DataFrame"
      ]
     },
     "execution_count": 18,
     "metadata": {},
     "output_type": "execute_result"
    }
   ],
   "source": [
    "type(arquivo)"
   ]
  },
  {
   "cell_type": "code",
   "execution_count": 19,
   "metadata": {},
   "outputs": [
    {
     "name": "stdout",
     "output_type": "stream",
     "text": [
      "+------+---------+---------------+--------------------+\n",
      "|ItemID|Sentiment|SentimentSource|       SentimentText|\n",
      "+------+---------+---------------+--------------------+\n",
      "|     1|        0|   Sentiment140|                 ...|\n",
      "|     2|        0|   Sentiment140|                 ...|\n",
      "|     3|        1|   Sentiment140|              omg...|\n",
      "|     4|        0|   Sentiment140|          .. Omga...|\n",
      "|     5|        0|   Sentiment140|         i think ...|\n",
      "|     6|        0|   Sentiment140|         or i jus...|\n",
      "|     7|        1|   Sentiment140|       Juuuuuuuuu...|\n",
      "|     8|        0|   Sentiment140|       Sunny Agai...|\n",
      "+------+---------+---------------+--------------------+\n",
      "only showing top 8 rows\n",
      "\n"
     ]
    }
   ],
   "source": [
    "arquivo.show(8)"
   ]
  },
  {
   "cell_type": "code",
   "execution_count": 20,
   "metadata": {},
   "outputs": [
    {
     "data": {
      "text/plain": [
       "[Row(ItemID='1', Sentiment='0', SentimentSource='Sentiment140', SentimentText='                     is so sad for my APL friend.............'),\n",
       " Row(ItemID='2', Sentiment='0', SentimentSource='Sentiment140', SentimentText='                   I missed the New Moon trailer...'),\n",
       " Row(ItemID='3', Sentiment='1', SentimentSource='Sentiment140', SentimentText='              omg its already 7:30 :O'),\n",
       " Row(ItemID='4', Sentiment='0', SentimentSource='Sentiment140', SentimentText=\"          .. Omgaga. Im sooo  im gunna CRy. I've been at this dentist since 11.. I was suposed 2 just get a crown put on (30mins)...\"),\n",
       " Row(ItemID='5', Sentiment='0', SentimentSource='Sentiment140', SentimentText='         i think mi bf is cheating on me!!!       T_T')]"
      ]
     },
     "execution_count": 20,
     "metadata": {},
     "output_type": "execute_result"
    }
   ],
   "source": [
    "# converte de dataframe para RDD\n",
    "dataset = arquivo.rdd\n",
    "dataset.take(5)"
   ]
  },
  {
   "cell_type": "code",
   "execution_count": 21,
   "metadata": {},
   "outputs": [],
   "source": [
    "from pyspark.sql import Row\n",
    "# Essa função separa as colunas em cada linha, cria uma tupla e remove a pontuação.\n",
    "def get_row(line):\n",
    "    #print (line)\n",
    "    #row = line.split(',')\n",
    "    sentimento = line['Sentiment']\n",
    "    tweet = line['SentimentText'].strip()\n",
    "    translator = str.maketrans({key: None for key in string.punctuation})\n",
    "#translator = re.compile('[%s]' % re.escape(string.punctuation))\n",
    "#tweet = regex.sub('', tweet)\n",
    "    tweet = tweet.translate(translator)\n",
    "    tweet = tweet.split(' ')\n",
    "    tweet_lower = []\n",
    "    for word in tweet:\n",
    "        tweet_lower.append(word.lower())\n",
    "    return (tweet_lower, sentimento)"
   ]
  },
  {
   "cell_type": "code",
   "execution_count": 22,
   "metadata": {},
   "outputs": [],
   "source": [
    "# Aplica a função a cada linha do dataset\n",
    "dataset_treino = dataset.map(lambda line: get_row(line))"
   ]
  },
  {
   "cell_type": "code",
   "execution_count": 23,
   "metadata": {},
   "outputs": [
    {
     "data": {
      "text/plain": [
       "[(['is', 'so', 'sad', 'for', 'my', 'apl', 'friend'], '0'),\n",
       " (['i', 'missed', 'the', 'new', 'moon', 'trailer'], '0'),\n",
       " (['omg', 'its', 'already', '730', 'o'], '1')]"
      ]
     },
     "execution_count": 23,
     "metadata": {},
     "output_type": "execute_result"
    }
   ],
   "source": [
    "dataset_treino.take(3)"
   ]
  },
  {
   "cell_type": "code",
   "execution_count": 24,
   "metadata": {},
   "outputs": [],
   "source": [
    "# Cria um objeto SentimentAnalyzer \n",
    "sentiment_analyzer = SentimentAnalyzer()"
   ]
  },
  {
   "cell_type": "code",
   "execution_count": 25,
   "metadata": {},
   "outputs": [],
   "source": [
    "# Certifique-se de ter espaço em disco - Aproximadamente 5GB\n",
    "# https://raw.githubusercontent.com/nltk/nltk_data/gh-pages/index.xml\n",
    "# nltk.download()\n",
    "#nltk.download(\"stopwords\")"
   ]
  },
  {
   "cell_type": "code",
   "execution_count": 26,
   "metadata": {},
   "outputs": [],
   "source": [
    "#from IPython.display import Image\n",
    "#Image(url = 'ntlkdata.png')"
   ]
  },
  {
   "cell_type": "code",
   "execution_count": 27,
   "metadata": {},
   "outputs": [],
   "source": [
    "import nltk"
   ]
  },
  {
   "cell_type": "code",
   "execution_count": 28,
   "metadata": {},
   "outputs": [],
   "source": [
    "# Obtém a lista de stopwords em Inglês \n",
    "stopwords_all = []\n",
    "for word in stopwords.words('english'):\n",
    "  stopwords_all.append(word)\n",
    "  stopwords_all.append(word + '_NEG')"
   ]
  },
  {
   "cell_type": "code",
   "execution_count": 29,
   "metadata": {},
   "outputs": [
    {
     "data": {
      "text/plain": [
       "['i', 'i_NEG', 'me', 'me_NEG', 'my', 'my_NEG', 'myself', 'myself_NEG']"
      ]
     },
     "execution_count": 29,
     "metadata": {},
     "output_type": "execute_result"
    }
   ],
   "source": [
    "stopwords_all[:8]"
   ]
  },
  {
   "cell_type": "code",
   "execution_count": 30,
   "metadata": {},
   "outputs": [],
   "source": [
    "# Obtém 10.000 tweets do dataset de treino e retorna todas as palavras que não são stopwords\n",
    "dataset_treino_amostra = dataset_treino.take(10000)"
   ]
  },
  {
   "cell_type": "code",
   "execution_count": 31,
   "metadata": {},
   "outputs": [
    {
     "data": {
      "text/plain": [
       "[(['is', 'so', 'sad', 'for', 'my', 'apl', 'friend'], '0'),\n",
       " (['i', 'missed', 'the', 'new', 'moon', 'trailer'], '0'),\n",
       " (['omg', 'its', 'already', '730', 'o'], '1')]"
      ]
     },
     "execution_count": 31,
     "metadata": {},
     "output_type": "execute_result"
    }
   ],
   "source": [
    "dataset_treino_amostra[:3]"
   ]
  },
  {
   "cell_type": "code",
   "execution_count": 32,
   "metadata": {},
   "outputs": [],
   "source": [
    "all_words_neg = sentiment_analyzer.all_words([mark_negation(doc) for doc in dataset_treino_amostra])\n",
    "all_words_neg_nostops = [x for x in all_words_neg if x not in stopwords_all]"
   ]
  },
  {
   "cell_type": "code",
   "execution_count": 33,
   "metadata": {},
   "outputs": [
    {
     "data": {
      "text/plain": [
       "['is', 'so', 'sad', 'for', 'my', 'apl', 'friend', 'i', 'missed', 'the']"
      ]
     },
     "execution_count": 33,
     "metadata": {},
     "output_type": "execute_result"
    }
   ],
   "source": [
    "all_words_neg[:10]"
   ]
  },
  {
   "cell_type": "code",
   "execution_count": 34,
   "metadata": {},
   "outputs": [],
   "source": [
    "# Cria um unigram e extrai as features\n",
    "unigram_feats = sentiment_analyzer.unigram_word_feats(all_words_neg_nostops, top_n = 200)\n",
    "sentiment_analyzer.add_feat_extractor(extract_unigram_feats, unigrams = unigram_feats)\n",
    "training_set = sentiment_analyzer.apply_features(dataset_treino_amostra)"
   ]
  },
  {
   "cell_type": "code",
   "execution_count": 35,
   "metadata": {},
   "outputs": [
    {
     "data": {
      "text/plain": [
       "nltk.collections.LazyMap"
      ]
     },
     "execution_count": 35,
     "metadata": {},
     "output_type": "execute_result"
    }
   ],
   "source": [
    "type(training_set)"
   ]
  },
  {
   "cell_type": "code",
   "execution_count": 36,
   "metadata": {},
   "outputs": [
    {
     "data": {
      "text/plain": [
       "[({'contains()': False, 'contains(im)': False, 'contains(_NEG)': False, 'contains(amp)': False, 'contains(followfriday)': False, 'contains(dont)': False, 'contains(love)': False, 'contains(day)': False, 'contains(like)': False, 'contains(cant)': False, 'contains(good)': False, 'contains(get)': False, 'contains(go)': False, 'contains(today)': False, 'contains(got)': False, 'contains(time)': False, 'contains(going)': False, 'contains(one)': False, 'contains(want)': False, 'contains(back)': False, 'contains(sad)': True, 'contains(miss)': False, 'contains(u)': False, 'contains(really)': False, 'contains(new)': False, 'contains(2)': False, 'contains(work)': False, 'contains(still)': False, 'contains(great)': False, 'contains(last)': False, 'contains(twitter)': False, 'contains(lol)': False, 'contains(night)': False, 'contains(need)': False, 'contains(follow)': False, 'contains(think)': False, 'contains(see)': False, 'contains(get_NEG)': False, 'contains(much)': False, 'contains(didnt)': False, 'contains(know)': False, 'contains(feel)': False, 'contains(home)': False, 'contains(hate)': False, 'contains(people)': False, 'contains(well)': False, 'contains(happy)': False, 'contains(myweakness)': False, 'contains(iremember)': False, 'contains(lt3)': False, 'contains(would)': False, 'contains(bad)': False, 'contains(right)': False, 'contains(musicmonday)': False, 'contains(oh)': False, 'contains(wish)': False, 'contains(ill)': False, 'contains(know_NEG)': False, 'contains(im_NEG)': False, 'contains(please)': False, 'contains(gonna)': False, 'contains(tomorrow)': False, 'contains(make)': False, 'contains(thanks)': False, 'contains(tonight)': False, 'contains(go_NEG)': False, 'contains(like_NEG)': False, 'contains(never)': False, 'contains(someone)': False, 'contains(hope)': False, 'contains(thats)': False, 'contains(getting)': False, 'contains(awesome)': False, 'contains(ff)': False, 'contains(morning)': False, 'contains(ive)': False, 'contains(come)': False, 'contains(fun)': False, 'contains(life)': False, 'contains(wont)': False, 'contains(better)': False, 'contains(good_NEG)': False, 'contains(best)': False, 'contains(song)': False, 'contains(friends)': False, 'contains(could)': False, 'contains(bed)': False, 'contains(haha)': False, 'contains(1)': False, 'contains(3)': False, 'contains(wanna)': False, 'contains(one_NEG)': False, 'contains(lost)': False, 'contains(4)': False, 'contains(guys)': False, 'contains(makes)': False, 'contains(school)': False, 'contains(inaperfectworld)': False, 'contains(squarespace)': False, 'contains(doesnt)': False, 'contains(ever)': False, 'contains(iphone)': False, 'contains(lt)': False, 'contains(want_NEG)': False, 'contains(week)': False, 'contains(days)': False, 'contains(things)': False, 'contains(next)': False, 'contains(way)': False, 'contains(show)': False, 'contains(us)': False, 'contains(nice)': False, 'contains(already)': False, 'contains(everyone)': False, 'contains(say)': False, 'contains(quoti)': False, 'contains(first)': False, 'contains(man)': False, 'contains(sorry)': False, 'contains(sick)': False, 'contains(music)': False, 'contains(old)': False, 'contains(dontyouhate)': False, 'contains(take)': False, 'contains(something)': False, 'contains(work_NEG)': False, 'contains(made)': False, 'contains(gt)': False, 'contains(see_NEG)': False, 'contains(away)': False, 'contains(always)': False, 'contains(damn)': False, 'contains(n)': False, 'contains(little)': False, 'contains(haveyouever)': False, 'contains(year)': False, 'contains(another)': False, 'contains(soon)': False, 'contains(left)': False, 'contains(isnt)': False, 'contains(sleep)': False, 'contains(quot)': False, 'contains(amazing)': False, 'contains(hes)': False, 'contains(bgt)': False, 'contains(today_NEG)': False, 'contains(baby)': False, 'contains(weekend)': False, 'contains(wait_NEG)': False, 'contains(world)': False, 'contains(phone)': False, 'contains(summer)': False, 'contains(shes)': False, 'contains(watching)': False, 'contains(girl)': False, 'contains(movie)': False, 'contains(ok)': False, 'contains(said)': False, 'contains(watch)': False, 'contains(went)': False, 'contains(friend)': True, 'contains(ur)': False, 'contains(done)': False, 'contains(feeling)': False, 'contains(keep)': False, 'contains(long)': False, 'contains(mom)': False, 'contains(even_NEG)': False, 'contains(hours)': False, 'contains(leave)': False, 'contains(look)': False, 'contains(cool)': False, 'contains(two)': False, 'contains(game)': False, 'contains(though)': False, 'contains(wanted)': False, 'contains(sucks)': False, 'contains(nothing)': False, 'contains(house)': False, 'contains(tweet)': False, 'contains(going_NEG)': False, 'contains(thank)': False, 'contains(lets)': False, 'contains(friday)': False, 'contains(found)': False, 'contains(tired)': False, 'contains(lol_NEG)': False, 'contains(goodsex)': False, 'contains(missed)': False, 'contains(even)': False, 'contains(give)': False, 'contains(guess)': False, 'contains(lot)': False, 'contains(sleep_NEG)': False, 'contains(ready)': False, 'contains(times)': False, 'contains(gone)': False, 'contains(thing)': False, 'contains(tweets)': False, 'contains(must)': False}, '0')]"
      ]
     },
     "execution_count": 36,
     "metadata": {},
     "output_type": "execute_result"
    }
   ],
   "source": [
    "training_set[:1]"
   ]
  },
  {
   "cell_type": "code",
   "execution_count": 37,
   "metadata": {},
   "outputs": [
    {
     "data": {
      "text/plain": [
       "10000"
      ]
     },
     "execution_count": 37,
     "metadata": {},
     "output_type": "execute_result"
    }
   ],
   "source": [
    "len(training_set)"
   ]
  },
  {
   "cell_type": "code",
   "execution_count": 38,
   "metadata": {},
   "outputs": [
    {
     "name": "stdout",
     "output_type": "stream",
     "text": [
      "Training classifier\n"
     ]
    }
   ],
   "source": [
    "# Treinar o modelo\n",
    "trainer = NaiveBayesClassifier.train\n",
    "classifier = sentiment_analyzer.train(trainer, training_set)"
   ]
  },
  {
   "cell_type": "code",
   "execution_count": 39,
   "metadata": {},
   "outputs": [
    {
     "data": {
      "text/plain": [
       "({'contains()': False,\n",
       "  'contains(1)': False,\n",
       "  'contains(2)': False,\n",
       "  'contains(3)': False,\n",
       "  'contains(4)': False,\n",
       "  'contains(_NEG)': False,\n",
       "  'contains(already)': False,\n",
       "  'contains(always)': False,\n",
       "  'contains(amazing)': False,\n",
       "  'contains(amp)': False,\n",
       "  'contains(another)': False,\n",
       "  'contains(away)': False,\n",
       "  'contains(awesome)': False,\n",
       "  'contains(baby)': False,\n",
       "  'contains(back)': False,\n",
       "  'contains(bad)': True,\n",
       "  'contains(bed)': False,\n",
       "  'contains(best)': False,\n",
       "  'contains(better)': False,\n",
       "  'contains(bgt)': False,\n",
       "  'contains(cant)': False,\n",
       "  'contains(come)': False,\n",
       "  'contains(cool)': False,\n",
       "  'contains(could)': False,\n",
       "  'contains(damn)': False,\n",
       "  'contains(day)': False,\n",
       "  'contains(days)': False,\n",
       "  'contains(didnt)': False,\n",
       "  'contains(doesnt)': False,\n",
       "  'contains(done)': False,\n",
       "  'contains(dont)': False,\n",
       "  'contains(dontyouhate)': False,\n",
       "  'contains(even)': False,\n",
       "  'contains(even_NEG)': False,\n",
       "  'contains(ever)': False,\n",
       "  'contains(everyone)': False,\n",
       "  'contains(feel)': False,\n",
       "  'contains(feeling)': False,\n",
       "  'contains(ff)': False,\n",
       "  'contains(first)': False,\n",
       "  'contains(follow)': False,\n",
       "  'contains(followfriday)': False,\n",
       "  'contains(found)': False,\n",
       "  'contains(friday)': False,\n",
       "  'contains(friend)': False,\n",
       "  'contains(friends)': False,\n",
       "  'contains(fun)': False,\n",
       "  'contains(game)': False,\n",
       "  'contains(get)': False,\n",
       "  'contains(get_NEG)': False,\n",
       "  'contains(getting)': False,\n",
       "  'contains(girl)': False,\n",
       "  'contains(give)': False,\n",
       "  'contains(go)': False,\n",
       "  'contains(go_NEG)': False,\n",
       "  'contains(going)': False,\n",
       "  'contains(going_NEG)': False,\n",
       "  'contains(gone)': False,\n",
       "  'contains(gonna)': False,\n",
       "  'contains(good)': False,\n",
       "  'contains(good_NEG)': False,\n",
       "  'contains(goodsex)': False,\n",
       "  'contains(got)': False,\n",
       "  'contains(great)': False,\n",
       "  'contains(gt)': False,\n",
       "  'contains(guess)': False,\n",
       "  'contains(guys)': False,\n",
       "  'contains(haha)': False,\n",
       "  'contains(happy)': False,\n",
       "  'contains(hate)': False,\n",
       "  'contains(haveyouever)': False,\n",
       "  'contains(hes)': False,\n",
       "  'contains(home)': False,\n",
       "  'contains(hope)': False,\n",
       "  'contains(hours)': False,\n",
       "  'contains(house)': False,\n",
       "  'contains(ill)': False,\n",
       "  'contains(im)': False,\n",
       "  'contains(im_NEG)': False,\n",
       "  'contains(inaperfectworld)': False,\n",
       "  'contains(iphone)': False,\n",
       "  'contains(iremember)': False,\n",
       "  'contains(isnt)': False,\n",
       "  'contains(ive)': False,\n",
       "  'contains(keep)': False,\n",
       "  'contains(know)': False,\n",
       "  'contains(know_NEG)': False,\n",
       "  'contains(last)': False,\n",
       "  'contains(leave)': False,\n",
       "  'contains(left)': False,\n",
       "  'contains(lets)': False,\n",
       "  'contains(life)': False,\n",
       "  'contains(like)': False,\n",
       "  'contains(like_NEG)': False,\n",
       "  'contains(little)': False,\n",
       "  'contains(lol)': False,\n",
       "  'contains(lol_NEG)': False,\n",
       "  'contains(long)': False,\n",
       "  'contains(look)': False,\n",
       "  'contains(lost)': False,\n",
       "  'contains(lot)': False,\n",
       "  'contains(love)': False,\n",
       "  'contains(lt)': False,\n",
       "  'contains(lt3)': False,\n",
       "  'contains(made)': False,\n",
       "  'contains(make)': False,\n",
       "  'contains(makes)': False,\n",
       "  'contains(man)': False,\n",
       "  'contains(miss)': False,\n",
       "  'contains(missed)': False,\n",
       "  'contains(mom)': False,\n",
       "  'contains(morning)': False,\n",
       "  'contains(movie)': False,\n",
       "  'contains(much)': False,\n",
       "  'contains(music)': False,\n",
       "  'contains(musicmonday)': False,\n",
       "  'contains(must)': False,\n",
       "  'contains(myweakness)': False,\n",
       "  'contains(n)': False,\n",
       "  'contains(need)': False,\n",
       "  'contains(never)': False,\n",
       "  'contains(new)': False,\n",
       "  'contains(next)': False,\n",
       "  'contains(nice)': False,\n",
       "  'contains(night)': False,\n",
       "  'contains(nothing)': False,\n",
       "  'contains(oh)': False,\n",
       "  'contains(ok)': False,\n",
       "  'contains(old)': False,\n",
       "  'contains(one)': False,\n",
       "  'contains(one_NEG)': False,\n",
       "  'contains(people)': False,\n",
       "  'contains(phone)': False,\n",
       "  'contains(please)': False,\n",
       "  'contains(quot)': False,\n",
       "  'contains(quoti)': False,\n",
       "  'contains(ready)': False,\n",
       "  'contains(really)': False,\n",
       "  'contains(right)': False,\n",
       "  'contains(sad)': False,\n",
       "  'contains(said)': False,\n",
       "  'contains(say)': False,\n",
       "  'contains(school)': False,\n",
       "  'contains(see)': False,\n",
       "  'contains(see_NEG)': False,\n",
       "  'contains(shes)': False,\n",
       "  'contains(show)': False,\n",
       "  'contains(sick)': False,\n",
       "  'contains(sleep)': False,\n",
       "  'contains(sleep_NEG)': False,\n",
       "  'contains(someone)': False,\n",
       "  'contains(something)': False,\n",
       "  'contains(song)': False,\n",
       "  'contains(soon)': False,\n",
       "  'contains(sorry)': False,\n",
       "  'contains(squarespace)': False,\n",
       "  'contains(still)': False,\n",
       "  'contains(sucks)': False,\n",
       "  'contains(summer)': False,\n",
       "  'contains(take)': False,\n",
       "  'contains(thank)': False,\n",
       "  'contains(thanks)': False,\n",
       "  'contains(thats)': False,\n",
       "  'contains(thing)': False,\n",
       "  'contains(things)': False,\n",
       "  'contains(think)': False,\n",
       "  'contains(though)': False,\n",
       "  'contains(time)': False,\n",
       "  'contains(times)': False,\n",
       "  'contains(tired)': False,\n",
       "  'contains(today)': False,\n",
       "  'contains(today_NEG)': False,\n",
       "  'contains(tomorrow)': False,\n",
       "  'contains(tonight)': False,\n",
       "  'contains(tweet)': False,\n",
       "  'contains(tweets)': False,\n",
       "  'contains(twitter)': False,\n",
       "  'contains(two)': False,\n",
       "  'contains(u)': False,\n",
       "  'contains(ur)': False,\n",
       "  'contains(us)': False,\n",
       "  'contains(wait_NEG)': False,\n",
       "  'contains(wanna)': False,\n",
       "  'contains(want)': False,\n",
       "  'contains(want_NEG)': False,\n",
       "  'contains(wanted)': False,\n",
       "  'contains(watch)': False,\n",
       "  'contains(watching)': False,\n",
       "  'contains(way)': False,\n",
       "  'contains(week)': False,\n",
       "  'contains(weekend)': False,\n",
       "  'contains(well)': False,\n",
       "  'contains(went)': False,\n",
       "  'contains(wish)': False,\n",
       "  'contains(wont)': False,\n",
       "  'contains(work)': False,\n",
       "  'contains(work_NEG)': False,\n",
       "  'contains(world)': False,\n",
       "  'contains(would)': False,\n",
       "  'contains(year)': False},\n",
       " '')"
      ]
     },
     "execution_count": 39,
     "metadata": {},
     "output_type": "execute_result"
    }
   ],
   "source": [
    "# Testa o classificador em algumas sentenças\n",
    "test_sentence1 = [(['this', 'program', 'is', 'bad'], '')]\n",
    "test_sentence2 = [(['tough', 'day', 'at', 'work', 'today'], '')]\n",
    "test_sentence3 = [(['good', 'wonderful', 'amazing', 'awesome'], '')]\n",
    "test_set = sentiment_analyzer.apply_features(test_sentence1)\n",
    "test_set2 = sentiment_analyzer.apply_features(test_sentence2)\n",
    "test_set3 = sentiment_analyzer.apply_features(test_sentence3)\n",
    "test_set[0]\n",
    "#test_set2\n",
    "#test_set3"
   ]
  },
  {
   "cell_type": "code",
   "execution_count": 40,
   "metadata": {},
   "outputs": [],
   "source": [
    "# Autenticação do Twitter \n",
    "# https://apps.twitter.com/\n",
    "consumer_key = \"Riew8e4LKVoEJ51HbeOm6wsYA\"\n",
    "consumer_secret = \"3pPE1z3kTJGQiY93yCqgLUTURJO2wOcoQCcMbyMbCj4Gm9Hc6N\"\n",
    "access_token = \"2904474861-kdalTd2NVus3q0PdvAiD3gB2IlF9IFZzao01ol7\"\n",
    "access_token_secret = \"2yHMlMAEUZflpw5swYaLA8EjFyPyPJWnJT84VJoAHDKCU\""
   ]
  },
  {
   "cell_type": "code",
   "execution_count": 41,
   "metadata": {},
   "outputs": [],
   "source": [
    "# Especifica a URL termo de busca\n",
    "search_term = 'Trump'\n",
    "sample_url = 'https://stream.twitter.com/1.1/statuses/sample.json'\n",
    "filter_url = 'https://stream.twitter.com/1.1/statuses/filter.json?track='+search_term"
   ]
  },
  {
   "cell_type": "code",
   "execution_count": 42,
   "metadata": {},
   "outputs": [],
   "source": [
    "# Criando o objeto de atutenticação para o Twitter\n",
    "auth = requests_oauthlib.OAuth1(consumer_key, consumer_secret, access_token, access_token_secret)"
   ]
  },
  {
   "cell_type": "code",
   "execution_count": 43,
   "metadata": {},
   "outputs": [
    {
     "data": {
      "text/html": [
       "\n",
       "        <div>\n",
       "            <p><b>SparkContext</b></p>\n",
       "\n",
       "            <p><a href=\"http://192.168.1.2:4040\">Spark UI</a></p>\n",
       "\n",
       "            <dl>\n",
       "              <dt>Version</dt>\n",
       "                <dd><code>v2.3.0</code></dd>\n",
       "              <dt>Master</dt>\n",
       "                <dd><code>local[*]</code></dd>\n",
       "              <dt>AppName</dt>\n",
       "                <dd><code>PySparkShell</code></dd>\n",
       "            </dl>\n",
       "        </div>\n",
       "        "
      ],
      "text/plain": [
       "<SparkContext master=local[*] appName=PySparkShell>"
      ]
     },
     "execution_count": 43,
     "metadata": {},
     "output_type": "execute_result"
    }
   ],
   "source": [
    "sc"
   ]
  },
  {
   "cell_type": "code",
   "execution_count": 44,
   "metadata": {},
   "outputs": [
    {
     "data": {
      "text/html": [
       "\n",
       "            <div>\n",
       "                <p><b>SparkSession - hive</b></p>\n",
       "                \n",
       "        <div>\n",
       "            <p><b>SparkContext</b></p>\n",
       "\n",
       "            <p><a href=\"http://192.168.1.2:4040\">Spark UI</a></p>\n",
       "\n",
       "            <dl>\n",
       "              <dt>Version</dt>\n",
       "                <dd><code>v2.3.0</code></dd>\n",
       "              <dt>Master</dt>\n",
       "                <dd><code>local[*]</code></dd>\n",
       "              <dt>AppName</dt>\n",
       "                <dd><code>PySparkShell</code></dd>\n",
       "            </dl>\n",
       "        </div>\n",
       "        \n",
       "            </div>\n",
       "        "
      ],
      "text/plain": [
       "<pyspark.sql.session.SparkSession at 0x111e20c50>"
      ]
     },
     "execution_count": 44,
     "metadata": {},
     "output_type": "execute_result"
    }
   ],
   "source": [
    "spark"
   ]
  },
  {
   "cell_type": "code",
   "execution_count": 45,
   "metadata": {},
   "outputs": [],
   "source": [
    "# Criando o StreamingContext\n",
    "ssc = StreamingContext(sc, INTERVALO_BATCH)"
   ]
  },
  {
   "cell_type": "code",
   "execution_count": 46,
   "metadata": {},
   "outputs": [],
   "source": [
    "# Configurando o Stream\n",
    "rdd = ssc.sparkContext.parallelize([0])\n",
    "stream = ssc.queueStream([], default = rdd)"
   ]
  },
  {
   "cell_type": "code",
   "execution_count": 47,
   "metadata": {},
   "outputs": [
    {
     "data": {
      "text/plain": [
       "pyspark.streaming.dstream.DStream"
      ]
     },
     "execution_count": 47,
     "metadata": {},
     "output_type": "execute_result"
    }
   ],
   "source": [
    "type(stream)"
   ]
  },
  {
   "cell_type": "code",
   "execution_count": 48,
   "metadata": {},
   "outputs": [],
   "source": [
    "# Total de tweets por update\n",
    "NUM_TWEETS = 500  "
   ]
  },
  {
   "cell_type": "code",
   "execution_count": 49,
   "metadata": {},
   "outputs": [],
   "source": [
    "# Essa função conecta ao Twitter e retorna um número específico de Tweets (NUM_TWEETS)\n",
    "def tfunc(t, rdd):\n",
    "  return rdd.flatMap(lambda x: stream_twitter_data())\n",
    "\n",
    "def stream_twitter_data():\n",
    "  response = requests.get(filter_url, auth = auth, stream = True)\n",
    "  print(filter_url, response)\n",
    "  count = 0\n",
    "  for line in response.iter_lines():\n",
    "    try:\n",
    "      if count > NUM_TWEETS:\n",
    "        break\n",
    "      post = json.loads(line.decode('utf-8'))\n",
    "      contents = [post['text']]\n",
    "      count += 1\n",
    "      yield str(contents)\n",
    "    except:\n",
    "      result = False"
   ]
  },
  {
   "cell_type": "code",
   "execution_count": 50,
   "metadata": {},
   "outputs": [],
   "source": [
    "stream = stream.transform(tfunc)"
   ]
  },
  {
   "cell_type": "code",
   "execution_count": 51,
   "metadata": {},
   "outputs": [],
   "source": [
    "coord_stream = stream.map(lambda line: ast.literal_eval(line))"
   ]
  },
  {
   "cell_type": "code",
   "execution_count": 52,
   "metadata": {},
   "outputs": [],
   "source": [
    "# Essa função classifica os tweets, aplicando as features do modelo criado anteriormente\n",
    "def classifica_tweet(tweet):\n",
    "  sentence = [(tweet, '')]\n",
    "  test_set = sentiment_analyzer.apply_features(sentence)\n",
    "  print(tweet, classifier.classify(test_set[0][0]))\n",
    "  return(tweet, classifier.classify(test_set[0][0]))"
   ]
  },
  {
   "cell_type": "code",
   "execution_count": 53,
   "metadata": {},
   "outputs": [],
   "source": [
    "# Essa função retorna o texto do Twitter\n",
    "def get_tweet_text(rdd):\n",
    "  for line in rdd:\n",
    "    tweet = line.strip()\n",
    "    translator = str.maketrans({key: None for key in string.punctuation})\n",
    "    tweet = tweet.translate(translator)\n",
    "    tweet = tweet.split(' ')\n",
    "    tweet_lower = []\n",
    "    for word in tweet:\n",
    "      tweet_lower.append(word.lower())\n",
    "    return(classifica_tweet(tweet_lower))"
   ]
  },
  {
   "cell_type": "code",
   "execution_count": 54,
   "metadata": {},
   "outputs": [],
   "source": [
    "# Cria uma lista vazia para os resultados\n",
    "resultados = []"
   ]
  },
  {
   "cell_type": "code",
   "execution_count": 55,
   "metadata": {},
   "outputs": [],
   "source": [
    "# Essa função salva o resultado dos batches de Tweets junto com o timestamp\n",
    "def output_rdd(rdd):\n",
    "  global resultados\n",
    "  pairs = rdd.map(lambda x: (get_tweet_text(x)[1],1))\n",
    "  counts = pairs.reduceByKey(add)\n",
    "  output = []\n",
    "  for count in counts.collect():\n",
    "    output.append(count)\n",
    "  result = [time.strftime(\"%I:%M:%S\"), output]\n",
    "  resultados.append(result)\n",
    "  print(result)"
   ]
  },
  {
   "cell_type": "code",
   "execution_count": 56,
   "metadata": {},
   "outputs": [],
   "source": [
    "# A função foreachRDD() aplica uma função a cada RDD to streaming de dados\n",
    "coord_stream.foreachRDD(lambda t, rdd: output_rdd(rdd))"
   ]
  },
  {
   "cell_type": "code",
   "execution_count": 57,
   "metadata": {},
   "outputs": [
    {
     "name": "stdout",
     "output_type": "stream",
     "text": [
      "['08:20:14', []]\n",
      "['08:20:39', [('1', 105), ('0', 396)]]\n",
      "['08:21:02', [('0', 397), ('1', 104)]]\n",
      "['08:21:27', [('0', 403), ('1', 98)]]\n",
      "['08:21:52', [('0', 382), ('1', 119)]]\n",
      "['08:22:16', [('1', 102), ('0', 399)]]\n",
      "['08:22:43', [('0', 382), ('1', 119)]]\n",
      "['08:23:08', [('0', 409), ('1', 92)]]\n"
     ]
    }
   ],
   "source": [
    "# Start streaming\n",
    "ssc.start()\n",
    "# ssc.awaitTermination()"
   ]
  },
  {
   "cell_type": "code",
   "execution_count": null,
   "metadata": {},
   "outputs": [
    {
     "name": "stdout",
     "output_type": "stream",
     "text": [
      "['08:13:14', []]\n",
      "['08:13:45', [('0', 395), ('1', 106)]]\n"
     ]
    }
   ],
   "source": [
    "cont = True\n",
    "while cont:\n",
    "  if len(resultados) > 5:\n",
    "    cont = False"
   ]
  },
  {
   "cell_type": "code",
   "execution_count": 58,
   "metadata": {},
   "outputs": [
    {
     "name": "stdout",
     "output_type": "stream",
     "text": [
      "['08:23:34', [('0', 388), ('1', 113)]]\n"
     ]
    }
   ],
   "source": [
    "# Finaliza o streaming\n",
    "ssc.stop()"
   ]
  },
  {
   "cell_type": "code",
   "execution_count": null,
   "metadata": {},
   "outputs": [],
   "source": [
    "# Grava os resultados\n",
    "#pathsave = './'\n",
    "#rdd_save = pathsave +'r'+time.strftime(\"%I%M%S\")\n",
    "#resultados_rdd = sc.parallelize(resultados) \n",
    "#resultados_rdd.saveAsTextFile(rdd_save)"
   ]
  },
  {
   "cell_type": "code",
   "execution_count": 59,
   "metadata": {},
   "outputs": [],
   "source": [
    "import pandas as pd"
   ]
  },
  {
   "cell_type": "code",
   "execution_count": 60,
   "metadata": {},
   "outputs": [
    {
     "data": {
      "text/plain": [
       "[['08:20:14', []],\n",
       " ['08:20:39', [('1', 105), ('0', 396)]],\n",
       " ['08:21:02', [('0', 397), ('1', 104)]],\n",
       " ['08:21:27', [('0', 403), ('1', 98)]],\n",
       " ['08:21:52', [('0', 382), ('1', 119)]],\n",
       " ['08:22:16', [('1', 102), ('0', 399)]],\n",
       " ['08:22:43', [('0', 382), ('1', 119)]],\n",
       " ['08:23:08', [('0', 409), ('1', 92)]],\n",
       " ['08:23:34', [('0', 388), ('1', 113)]]]"
      ]
     },
     "execution_count": 60,
     "metadata": {},
     "output_type": "execute_result"
    }
   ],
   "source": [
    "resultados"
   ]
  },
  {
   "cell_type": "code",
   "execution_count": 61,
   "metadata": {},
   "outputs": [
    {
     "data": {
      "text/plain": [
       "[('1', 105), ('0', 396)]"
      ]
     },
     "execution_count": 61,
     "metadata": {},
     "output_type": "execute_result"
    }
   ],
   "source": [
    "resultados[1][1]"
   ]
  },
  {
   "cell_type": "code",
   "execution_count": 62,
   "metadata": {},
   "outputs": [
    {
     "name": "stdout",
     "output_type": "stream",
     "text": [
      "08:20:14\n",
      "08:20:39\n",
      "08:21:02\n",
      "08:21:27\n",
      "08:21:52\n",
      "08:22:16\n",
      "08:22:43\n",
      "08:23:08\n",
      "08:23:34\n",
      "dict_sentimentos:\n",
      "{0: [['1', 105], ['0', 396]], 1: [['0', 397], ['1', 104]], 2: [['0', 403], ['1', 98]], 3: [['0', 382], ['1', 119]], 4: [['1', 102], ['0', 399]], 5: [['0', 382], ['1', 119]], 6: [['0', 409], ['1', 92]], 7: [['0', 388], ['1', 113]]}\n"
     ]
    }
   ],
   "source": [
    "#dfsaida = pd.DataFrame()\n",
    "dict_sentimentos = {}\n",
    "i = 0\n",
    "result_sentimento = []\n",
    "for linha in resultados:\n",
    "    date = linha[0]\n",
    "    print(date)\n",
    "    sentimentos = linha[1]\n",
    "    #print(sentimentos)\n",
    "    if len(linha[1]) != 0:\n",
    "        sentimento = [[x[0],x[1]] for x in sentimentos]\n",
    "        dict_sentimentos[i] = sentimento\n",
    "        i+= 1\n",
    "\n",
    "print(\"dict_sentimentos:\")\n",
    "print(dict_sentimentos)"
   ]
  },
  {
   "cell_type": "code",
   "execution_count": 63,
   "metadata": {},
   "outputs": [
    {
     "name": "stdout",
     "output_type": "stream",
     "text": [
      "{0: [['1', 105], ['0', 396]], 1: [['0', 397], ['1', 104]], 2: [['0', 403], ['1', 98]], 3: [['0', 382], ['1', 119]], 4: [['1', 102], ['0', 399]], 5: [['0', 382], ['1', 119]], 6: [['0', 409], ['1', 92]], 7: [['0', 388], ['1', 113]]}\n"
     ]
    }
   ],
   "source": [
    "print(dict_sentimentos)"
   ]
  },
  {
   "cell_type": "code",
   "execution_count": 64,
   "metadata": {},
   "outputs": [
    {
     "name": "stdout",
     "output_type": "stream",
     "text": [
      "[['1', 105], ['0', 396]]\n",
      "1 105 0 396\n",
      "396 105\n",
      "[['0', 397], ['1', 104]]\n",
      "0 397 1 104\n",
      "397 104\n",
      "[['0', 403], ['1', 98]]\n",
      "0 403 1 98\n",
      "403 98\n",
      "[['0', 382], ['1', 119]]\n",
      "0 382 1 119\n",
      "382 119\n",
      "[['1', 102], ['0', 399]]\n",
      "1 102 0 399\n",
      "399 102\n",
      "[['0', 382], ['1', 119]]\n",
      "0 382 1 119\n",
      "382 119\n",
      "[['0', 409], ['1', 92]]\n",
      "0 409 1 92\n",
      "409 92\n",
      "[['0', 388], ['1', 113]]\n",
      "0 388 1 113\n",
      "388 113\n"
     ]
    },
    {
     "data": {
      "text/plain": [
       "[[396, 105],\n",
       " [397, 104],\n",
       " [403, 98],\n",
       " [382, 119],\n",
       " [399, 102],\n",
       " [382, 119],\n",
       " [409, 92],\n",
       " [388, 113]]"
      ]
     },
     "execution_count": 64,
     "metadata": {},
     "output_type": "execute_result"
    }
   ],
   "source": [
    "indices = list(dict_sentimentos.keys())\n",
    "lista_sentimentos = []\n",
    "# Percorre a lista de índices, acessando a respectiva posição:\n",
    "for indice in indices:\n",
    "    print(dict_sentimentos[indice])\n",
    "    l = dict_sentimentos[indice]\n",
    "    print (l[0][0],l[0][1],l[1][0],l[1][1])\n",
    "    if l[0][0] == '0': \n",
    "        count_negativo = l[0][1]\n",
    "        count_positivo = l[1][1]\n",
    "        \n",
    "    if l[0][0] == '1': \n",
    "        count_positivo = l[0][1]\n",
    "        count_negativo = l[1][1]   \n",
    "        \n",
    "    print (count_negativo, count_positivo)   \n",
    "    lista_sentimentos.append([count_negativo, count_positivo])\n",
    "lista_sentimentos"
   ]
  },
  {
   "cell_type": "code",
   "execution_count": 65,
   "metadata": {},
   "outputs": [
    {
     "data": {
      "text/html": [
       "<div>\n",
       "<style scoped>\n",
       "    .dataframe tbody tr th:only-of-type {\n",
       "        vertical-align: middle;\n",
       "    }\n",
       "\n",
       "    .dataframe tbody tr th {\n",
       "        vertical-align: top;\n",
       "    }\n",
       "\n",
       "    .dataframe thead th {\n",
       "        text-align: right;\n",
       "    }\n",
       "</style>\n",
       "<table border=\"1\" class=\"dataframe\">\n",
       "  <thead>\n",
       "    <tr style=\"text-align: right;\">\n",
       "      <th></th>\n",
       "      <th>Negative</th>\n",
       "      <th>Positive</th>\n",
       "      <th>Tweets</th>\n",
       "    </tr>\n",
       "    <tr>\n",
       "      <th>tweets</th>\n",
       "      <th></th>\n",
       "      <th></th>\n",
       "      <th></th>\n",
       "    </tr>\n",
       "  </thead>\n",
       "  <tbody>\n",
       "    <tr>\n",
       "      <th>0</th>\n",
       "      <td>396</td>\n",
       "      <td>105</td>\n",
       "      <td>0</td>\n",
       "    </tr>\n",
       "    <tr>\n",
       "      <th>1</th>\n",
       "      <td>397</td>\n",
       "      <td>104</td>\n",
       "      <td>1</td>\n",
       "    </tr>\n",
       "    <tr>\n",
       "      <th>2</th>\n",
       "      <td>403</td>\n",
       "      <td>98</td>\n",
       "      <td>2</td>\n",
       "    </tr>\n",
       "    <tr>\n",
       "      <th>3</th>\n",
       "      <td>382</td>\n",
       "      <td>119</td>\n",
       "      <td>3</td>\n",
       "    </tr>\n",
       "    <tr>\n",
       "      <th>4</th>\n",
       "      <td>399</td>\n",
       "      <td>102</td>\n",
       "      <td>4</td>\n",
       "    </tr>\n",
       "    <tr>\n",
       "      <th>5</th>\n",
       "      <td>382</td>\n",
       "      <td>119</td>\n",
       "      <td>5</td>\n",
       "    </tr>\n",
       "    <tr>\n",
       "      <th>6</th>\n",
       "      <td>409</td>\n",
       "      <td>92</td>\n",
       "      <td>6</td>\n",
       "    </tr>\n",
       "    <tr>\n",
       "      <th>7</th>\n",
       "      <td>388</td>\n",
       "      <td>113</td>\n",
       "      <td>7</td>\n",
       "    </tr>\n",
       "  </tbody>\n",
       "</table>\n",
       "</div>"
      ],
      "text/plain": [
       "        Negative  Positive  Tweets\n",
       "tweets                            \n",
       "0            396       105       0\n",
       "1            397       104       1\n",
       "2            403        98       2\n",
       "3            382       119       3\n",
       "4            399       102       4\n",
       "5            382       119       5\n",
       "6            409        92       6\n",
       "7            388       113       7"
      ]
     },
     "execution_count": 65,
     "metadata": {},
     "output_type": "execute_result"
    }
   ],
   "source": [
    "# Visualiza os resultados\n",
    "df = pd.DataFrame(lista_sentimentos, columns=[\"Negative\", \"Positive\"])\n",
    "\n",
    "df.reset_index()\n",
    "df.reindex(index=range(len(df)))\n",
    "df.index.name = \"tweets\"\n",
    "df['Tweets'] = range(len(df))\n",
    "\n",
    "df"
   ]
  },
  {
   "cell_type": "code",
   "execution_count": 66,
   "metadata": {},
   "outputs": [],
   "source": [
    "import matplotlib.pyplot as plt\n",
    "import warnings\n",
    "warnings.filterwarnings('ignore')\n",
    "#import seaborn as sea\n",
    "from ggplot import ggplot, geom_line, aes"
   ]
  },
  {
   "cell_type": "code",
   "execution_count": 68,
   "metadata": {},
   "outputs": [
    {
     "name": "stdout",
     "output_type": "stream",
     "text": [
      "Sentiment Analysis - 01-Abril-2018 - Term: Trump\n"
     ]
    },
    {
     "data": {
      "image/png": "[encoded data removed]",
      "text/plain": [
       "<matplotlib.figure.Figure at 0x1193afb00>"
      ]
     },
     "metadata": {},
     "output_type": "display_data"
    },
    {
     "data": {
      "text/plain": [
       "<ggplot: (295589766)>"
      ]
     },
     "execution_count": 68,
     "metadata": {},
     "output_type": "execute_result"
    }
   ],
   "source": [
    "import warnings\n",
    "warnings.filterwarnings('ignore')\n",
    "%matplotlib inline\n",
    "from ggplot import ggplot, geom_line, aes\n",
    "\n",
    "print (\"Sentiment Analysis - 01-Abril-2018 - Term: Trump\")\n",
    "ggplot(aes(x='Tweets'), data=df) +\\\n",
    "    geom_line(aes(y='Positive'), color='blue') +\\\n",
    "    geom_line(aes(y='Negative'), color='red') "
   ]
  },
  {
   "cell_type": "code",
   "execution_count": 75,
   "metadata": {},
   "outputs": [
    {
     "name": "stdout",
     "output_type": "stream",
     "text": [
      "sentimentos-Trump-2018-04-01\n"
     ]
    }
   ],
   "source": [
    "# Grava o dataframe\n",
    "import datetime\n",
    "data_hoje = datetime.datetime.today().strftime('%Y-%m-%d')\n",
    "str = 'sentimentos-'+ search_term + '-' + data_hoje \n",
    "print(str)\n",
    "df.to_csv(str+'.csv')"
   ]
  },
  {
   "cell_type": "code",
   "execution_count": null,
   "metadata": {},
   "outputs": [],
   "source": [
    "#resultados_rdd.take(4)"
   ]
  },
  {
   "cell_type": "code",
   "execution_count": null,
   "metadata": {},
   "outputs": [],
   "source": [
    "from pyspark.sql import SQLContext\n",
    "#sqlContext = SQLContext(sc)"
   ]
  },
  {
   "cell_type": "code",
   "execution_count": null,
   "metadata": {},
   "outputs": [],
   "source": [
    "# Spark Session - usada quando se trabalha com Dataframes no Spark\n",
    "#spSession = SparkSession.builder.master(\"local\").appName(\"SparkSQL2\").config(\"spark.some.config.option\", \"some-value\").getOrCreate()"
   ]
  },
  {
   "cell_type": "code",
   "execution_count": null,
   "metadata": {},
   "outputs": [],
   "source": [
    "# Criando um dataframe a partir do RDD\n",
    "#df = spSession.createDataFrame(resultados_rdd)\n",
    "#df = sqlContext.createDataFrame(resultados_rdd)"
   ]
  },
  {
   "cell_type": "code",
   "execution_count": null,
   "metadata": {},
   "outputs": [],
   "source": [
    "# Finaliza o streaming\n",
    "ssc.stop()"
   ]
  }
 ],
 "metadata": {
  "anaconda-cloud": {},
  "kernelspec": {
   "display_name": "Python 3",
   "language": "python",
   "name": "python3"
  },
  "language_info": {
   "codemirror_mode": {
    "name": "ipython",
    "version": 3
   },
   "file_extension": ".py",
   "mimetype": "text/x-python",
   "name": "python",
   "nbconvert_exporter": "python",
   "pygments_lexer": "ipython3",
   "version": "3.6.4"
  }
 },
 "nbformat": 4,
 "nbformat_minor": 1
}
